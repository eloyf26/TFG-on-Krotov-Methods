{
 "cells": [
  {
   "cell_type": "markdown",
   "metadata": {},
   "source": [
    "# Optimization of an X-Gate for a Transmon Qubit"
   ]
  },
  {
   "cell_type": "code",
   "execution_count": 1,
   "metadata": {
    "ExecuteTime": {
     "end_time": "2020-03-21T21:17:44.153391Z",
     "start_time": "2020-03-21T21:17:42.571725Z"
    },
    "execution": {
     "iopub.execute_input": "2021-11-07T04:48:42.949142Z",
     "iopub.status.busy": "2021-11-07T04:48:42.947781Z",
     "iopub.status.idle": "2021-11-07T04:48:44.219607Z",
     "shell.execute_reply": "2021-11-07T04:48:44.219306Z"
    }
   },
   "outputs": [
    {
     "name": "stdout",
     "output_type": "stream",
     "text": [
      "Python implementation: CPython\n",
      "Python version       : 3.8.1\n",
      "IPython version      : 7.24.1\n",
      "\n",
      "krotov    : 1.2.1+dev\n",
      "qutip     : 4.6.1\n",
      "scipy     : 1.6.3\n",
      "matplotlib: 3.4.2\n",
      "numpy     : 1.20.3\n",
      "sys       : 3.8.1 (default, Aug 12 2020, 19:33:59) \n",
      "[GCC 8.3.0]\n",
      "\n"
     ]
    }
   ],
   "source": [
    "# NBVAL_IGNORE_OUTPUT\n",
    "%load_ext watermark\n",
    "import sys\n",
    "import os\n",
    "import qutip\n",
    "import numpy as np\n",
    "import scipy\n",
    "import matplotlib\n",
    "import matplotlib.pylab as plt\n",
    "import krotov\n",
    "from scipy.fftpack import fft\n",
    "from scipy.interpolate import interp1d\n",
    "%watermark -v --iversions"
   ]
  },
  {
   "cell_type": "markdown",
   "metadata": {},
   "source": [
    "$\\newcommand{tr}[0]{\\operatorname{tr}}\n",
    "\\newcommand{diag}[0]{\\operatorname{diag}}\n",
    "\\newcommand{abs}[0]{\\operatorname{abs}}\n",
    "\\newcommand{pop}[0]{\\operatorname{pop}}\n",
    "\\newcommand{aux}[0]{\\text{aux}}\n",
    "\\newcommand{opt}[0]{\\text{opt}}\n",
    "\\newcommand{tgt}[0]{\\text{tgt}}\n",
    "\\newcommand{init}[0]{\\text{init}}\n",
    "\\newcommand{lab}[0]{\\text{lab}}\n",
    "\\newcommand{rwa}[0]{\\text{rwa}}\n",
    "\\newcommand{bra}[1]{\\langle#1\\vert}\n",
    "\\newcommand{ket}[1]{\\vert#1\\rangle}\n",
    "\\newcommand{Bra}[1]{\\left\\langle#1\\right\\vert}\n",
    "\\newcommand{Ket}[1]{\\left\\vert#1\\right\\rangle}\n",
    "\\newcommand{Braket}[2]{\\left\\langle #1\\vphantom{#2} \\mid #2\\vphantom{#1}\\right\\rangle}\n",
    "\\newcommand{op}[1]{\\hat{#1}}\n",
    "\\newcommand{Op}[1]{\\hat{#1}}\n",
    "\\newcommand{dd}[0]{\\,\\text{d}}\n",
    "\\newcommand{Liouville}[0]{\\mathcal{L}}\n",
    "\\newcommand{DynMap}[0]{\\mathcal{E}}\n",
    "\\newcommand{identity}[0]{\\mathbf{1}}\n",
    "\\newcommand{Norm}[1]{\\lVert#1\\rVert}\n",
    "\\newcommand{Abs}[1]{\\left\\vert#1\\right\\vert}\n",
    "\\newcommand{avg}[1]{\\langle#1\\rangle}\n",
    "\\newcommand{Avg}[1]{\\left\\langle#1\\right\\rangle}\n",
    "\\newcommand{AbsSq}[1]{\\left\\vert#1\\right\\vert^2}\n",
    "\\newcommand{Re}[0]{\\operatorname{Re}}\n",
    "\\newcommand{Im}[0]{\\operatorname{Im}}$\n",
    "\n",
    "In the previous examples, we have only optimized for state-to-state\n",
    "transitions, i.e., for a single objective. This example shows the optimization\n",
    "of a simple quantum gate, which requires multiple objectives to be fulfilled\n",
    "simultaneously (one for each state in the logical basis). We consider a\n",
    "superconducting \"transmon\" qubit and implement a single-qubit Pauli-X gate."
   ]
  },
  {
   "cell_type": "markdown",
   "metadata": {},
   "source": [
    "**Note**: This notebook uses some parallelization features (`parallel_map`/`multiprocessing`). Unfortunately, on Windows (and macOS with Python >= 3.8), `multiprocessing` does not work correctly for functions defined in a Jupyter notebook (due to the [spawn method](https://docs.python.org/3/library/multiprocessing.html#contexts-and-start-methods) being used on Windows, instead of Unix-`fork`, see also https://stackoverflow.com/questions/45719956). We can use the third-party [loky](https://loky.readthedocs.io/) library to fix this, but this significantly increases the overhead of multi-process parallelization. The use of parallelization here is for illustration only and makes no guarantee of actually improving the runtime of the optimization."
   ]
  },
  {
   "cell_type": "code",
   "execution_count": 2,
   "metadata": {
    "ExecuteTime": {
     "end_time": "2020-03-21T21:17:44.267888Z",
     "start_time": "2020-03-21T21:17:44.262477Z"
    },
    "execution": {
     "iopub.execute_input": "2021-11-07T04:48:44.221884Z",
     "iopub.status.busy": "2021-11-07T04:48:44.221590Z",
     "iopub.status.idle": "2021-11-07T04:48:44.223199Z",
     "shell.execute_reply": "2021-11-07T04:48:44.222901Z"
    }
   },
   "outputs": [],
   "source": [
    "krotov.parallelization.set_parallelization(use_loky=True)"
   ]
  },
  {
   "cell_type": "markdown",
   "metadata": {},
   "source": [
    "## The transmon Hamiltonian"
   ]
  },
  {
   "cell_type": "markdown",
   "metadata": {},
   "source": [
    "The effective Hamiltonian of a single transmon depends on the capacitive energy\n",
    "$E_C=e^2/2C$ and the Josephson energy $E_J$, an energy due to the Josephson\n",
    "junction working as a nonlinear inductor periodic with the flux $\\Phi$. In the\n",
    "so-called transmon limit, the ratio between these two energies lies around\n",
    "$E_J / E_C \\approx 45$. The Hamiltonian for the transmon is\n",
    "\n",
    "$$\n",
    "  \\op{H}_{0} = 4 E_C (\\hat{n}-n_g)^2 - E_J \\cos(\\hat{\\Phi})\n",
    "$$\n",
    "\n",
    "where $\\hat{n}$ is the number operator, which counts the relative number of Cooper pairs\n",
    "capacitively stored in the junction, and $n_g$ is the effective offset charge\n",
    "measured in Cooper pair charge units. The equation can be written in a truncated\n",
    "charge basis defined by the number operator $\\op{n} \\ket{n} = n \\ket{n}$ such\n",
    "that\n",
    "\n",
    "$$\n",
    "  \\op{H}_{0}\n",
    "    = 4 E_C \\sum_{j=-N} ^N (j-n_g)^2 \\ket{j} \\bra{j}\n",
    "      - \\frac{E_J}{2} \\sum_{j=-N}^{N-1}\n",
    "          (\\ket{j+1} \\bra{j} + \\ket{j} \\bra{j+1}).\n",
    "$$\n",
    "\n",
    "A voltage $V(t)$ applied to the circuit couples to the charge Hamiltonian\n",
    "$\\op{q}$, which in the (truncated) charge basis reads\n",
    "\n",
    "$$\n",
    "  \\op{H}_1 = \\op{q} = \\sum_{j=-N} ^N -2n \\ket{n} \\bra{n}\\,.\n",
    "$$\n",
    "\n",
    "The factor 2 is due to the charge carriers in a superconductor being Cooper\n",
    "pairs. The total Hamiltonian is\n",
    "\n",
    "$$\n",
    "  \\op{H} = \\op{H}_{0} + V(t) \\cdot \\op{H}_{1}\n",
    "$$"
   ]
  },
  {
   "cell_type": "markdown",
   "metadata": {},
   "source": [
    "We use a Gaussian voltage profile as the guess pulse:"
   ]
  },
  {
   "cell_type": "code",
   "execution_count": 3,
   "metadata": {
    "ExecuteTime": {
     "end_time": "2020-03-21T21:17:56.579690Z",
     "start_time": "2020-03-21T21:17:56.572502Z"
    },
    "execution": {
     "iopub.execute_input": "2021-11-07T04:48:44.225644Z",
     "iopub.status.busy": "2021-11-07T04:48:44.225351Z",
     "iopub.status.idle": "2021-11-07T04:48:44.226967Z",
     "shell.execute_reply": "2021-11-07T04:48:44.226655Z"
    },
    "lines_to_next_cell": 2
   },
   "outputs": [],
   "source": [
    "tlist = np.linspace(0, 10, 1000)\n",
    "\n",
    "def eps0(t, args):\n",
    "    T = tlist[-1]\n",
    "    return 4 * np.exp(-40.0 * (t / T - 0.5) ** 2)"
   ]
  },
  {
   "cell_type": "code",
   "execution_count": 4,
   "metadata": {
    "ExecuteTime": {
     "end_time": "2020-03-21T21:17:57.284409Z",
     "start_time": "2020-03-21T21:17:57.275685Z"
    },
    "execution": {
     "iopub.execute_input": "2021-11-07T04:48:44.229531Z",
     "iopub.status.busy": "2021-11-07T04:48:44.229233Z",
     "iopub.status.idle": "2021-11-07T04:48:44.230877Z",
     "shell.execute_reply": "2021-11-07T04:48:44.230534Z"
    }
   },
   "outputs": [],
   "source": [
    "def plot_pulse(pulse, tlist, xlimit=None):\n",
    "    fig, ax = plt.subplots()\n",
    "    if callable(pulse):\n",
    "        pulse = np.array([pulse(t, None) for t in tlist])\n",
    "    ax.plot(tlist, pulse)\n",
    "    ax.set_xlabel('time (ns)')\n",
    "    ax.set_ylabel('pulse amplitude')\n",
    "    if xlimit is not None:\n",
    "        ax.set_xlim(xlimit)\n",
    "    plt.show(fig)"
   ]
  },
  {
   "cell_type": "code",
   "execution_count": 5,
   "metadata": {
    "ExecuteTime": {
     "end_time": "2020-03-21T21:17:58.296931Z",
     "start_time": "2020-03-21T21:17:57.957925Z"
    },
    "execution": {
     "iopub.execute_input": "2021-11-07T04:48:44.245365Z",
     "iopub.status.busy": "2021-11-07T04:48:44.241568Z",
     "iopub.status.idle": "2021-11-07T04:48:44.347717Z",
     "shell.execute_reply": "2021-11-07T04:48:44.347412Z"
    }
   },
   "outputs": [
    {
     "data": {
      "image/png": "[encoded data removed]",
      "text/plain": [
       "<Figure size 432x288 with 1 Axes>"
      ]
     },
     "metadata": {
      "needs_background": "light"
     },
     "output_type": "display_data"
    }
   ],
   "source": [
    "plot_pulse(eps0, tlist)"
   ]
  },
  {
   "cell_type": "markdown",
   "metadata": {},
   "source": [
    "The complete Hamiltonian is instantiated as\n"
   ]
  },
  {
   "cell_type": "code",
   "execution_count": 6,
   "metadata": {
    "ExecuteTime": {
     "end_time": "2020-03-21T21:17:59.835440Z",
     "start_time": "2020-03-21T21:17:59.814723Z"
    },
    "execution": {
     "iopub.execute_input": "2021-11-07T04:48:44.351011Z",
     "iopub.status.busy": "2021-11-07T04:48:44.350675Z",
     "iopub.status.idle": "2021-11-07T04:48:44.352371Z",
     "shell.execute_reply": "2021-11-07T04:48:44.352075Z"
    }
   },
   "outputs": [],
   "source": [
    "def transmon_hamiltonian(Ec=0.386, EjEc=45, nstates=8, ng=0.0, T=10.0):\n",
    "    \"\"\"Transmon Hamiltonian\n",
    "\n",
    "    Args:\n",
    "        Ec: capacitive energy\n",
    "        EjEc: ratio `Ej` / `Ec`\n",
    "        nstates: defines the maximum and minimum states for the basis. The\n",
    "            truncated basis will have a total of ``2*nstates + 1`` states\n",
    "\n",
    "        ng: offset charge\n",
    "        T: gate duration\n",
    "    \"\"\"\n",
    "\n",
    "    Ej = EjEc * Ec\n",
    "    n = np.arange(-nstates, nstates + 1)\n",
    "    up = np.diag(np.ones(2 * nstates), k=-1)\n",
    "    do = up.T\n",
    "    H0 = qutip.Qobj(np.diag(4 * Ec * (n - ng) ** 2) - Ej * (up + do) / 2.0)\n",
    "    H1 = qutip.Qobj(-2 * np.diag(n))\n",
    "\n",
    "    return [H0, [H1, eps0]]"
   ]
  },
  {
   "cell_type": "code",
   "execution_count": 7,
   "metadata": {
    "ExecuteTime": {
     "end_time": "2020-03-21T21:18:00.552014Z",
     "start_time": "2020-03-21T21:18:00.539883Z"
    },
    "execution": {
     "iopub.execute_input": "2021-11-07T04:48:44.354581Z",
     "iopub.status.busy": "2021-11-07T04:48:44.353927Z",
     "iopub.status.idle": "2021-11-07T04:48:44.356071Z",
     "shell.execute_reply": "2021-11-07T04:48:44.355778Z"
    }
   },
   "outputs": [],
   "source": [
    "H = transmon_hamiltonian()"
   ]
  },
  {
   "cell_type": "markdown",
   "metadata": {},
   "source": [
    "We define the logical basis $\\ket{0_l}$ and $\\ket{1_l}$ (not to be confused with\n",
    "the charge states $\\ket{n=0}$ and $\\ket{n=1}$) as the eigenstates of the drift\n",
    "Hamiltonian $\\op{H}_0$ with the lowest energy. The optimization goal is to find a\n",
    "potential $V_{opt}(t)$ such that after a given final time $T$ implements an\n",
    "X-gate on this logical basis.\n"
   ]
  },
  {
   "cell_type": "code",
   "execution_count": 8,
   "metadata": {
    "ExecuteTime": {
     "end_time": "2020-03-21T21:18:01.493488Z",
     "start_time": "2020-03-21T21:18:01.468153Z"
    },
    "execution": {
     "iopub.execute_input": "2021-11-07T04:48:44.372144Z",
     "iopub.status.busy": "2021-11-07T04:48:44.371838Z",
     "iopub.status.idle": "2021-11-07T04:48:44.373631Z",
     "shell.execute_reply": "2021-11-07T04:48:44.373328Z"
    }
   },
   "outputs": [
    {
     "name": "stdout",
     "output_type": "stream",
     "text": [
      "Energy of qubit transition is 6.914\n"
     ]
    }
   ],
   "source": [
    "def logical_basis(H):\n",
    "    H0 = H[0]\n",
    "    eigenvals, eigenvecs = scipy.linalg.eig(H0.full())\n",
    "    ndx = np.argsort(eigenvals.real)\n",
    "    E = eigenvals[ndx].real\n",
    "    V = eigenvecs[:, ndx]\n",
    "    psi0 = qutip.Qobj(V[:, 0])\n",
    "    psi1 = qutip.Qobj(V[:, 1])\n",
    "    w01 = E[1] - E[0]  # Transition energy between states\n",
    "    print(\"Energy of qubit transition is %.3f\" % w01)\n",
    "    return psi0, psi1\n",
    "\n",
    "psi0, psi1 = logical_basis(H)"
   ]
  },
  {
   "cell_type": "markdown",
   "metadata": {},
   "source": [
    "We also introduce the projectors $P_i = \\ket{\\psi _i}\\bra{\\psi _i}$ for the logical\n",
    "states $\\ket{\\psi _i} \\in \\{\\ket{0_l}, \\ket{1_l}\\}$"
   ]
  },
  {
   "cell_type": "code",
   "execution_count": 9,
   "metadata": {
    "ExecuteTime": {
     "end_time": "2020-03-21T21:18:02.822630Z",
     "start_time": "2020-03-21T21:18:02.813232Z"
    },
    "execution": {
     "iopub.execute_input": "2021-11-07T04:48:44.376096Z",
     "iopub.status.busy": "2021-11-07T04:48:44.375807Z",
     "iopub.status.idle": "2021-11-07T04:48:44.377450Z",
     "shell.execute_reply": "2021-11-07T04:48:44.377159Z"
    }
   },
   "outputs": [],
   "source": [
    "proj0 = qutip.ket2dm(psi0)\n",
    "proj1 = qutip.ket2dm(psi1)"
   ]
  },
  {
   "cell_type": "markdown",
   "metadata": {},
   "source": [
    "## Optimization target"
   ]
  },
  {
   "cell_type": "markdown",
   "metadata": {},
   "source": [
    "The key insight for the realization of a quantum gate $\\Op{O}$ is that\n",
    "(by virtue of linearity)\n",
    "\n",
    "$$\\ket{\\Psi(t=0)} \\rightarrow \\ket{\\Psi(t=T)}\n",
    "    = \\Op{U}(T, \\epsilon(t))\\ket{\\Psi(0)}\n",
    "    = \\Op{O} \\ket{\\Psi(0)}\n",
    "$$\n",
    "\n",
    "is fulfilled for an arbitrary state $\\Ket{\\Psi(t=0)}$ if an only if\n",
    "$\\Op{U}(T, \\epsilon(t))\\ket{k} = \\Op{O} \\ket{k}$ for every state $\\ket{k}$ in\n",
    "logical basis, for the time evolution operator $\\Op{U}(T, \\epsilon(t))$ from\n",
    "$t=0$ to $t=T$ under the same control $\\epsilon(t)$.\n",
    "\n",
    "The function `krotov.gate_objectives` automatically sets up the corresponding\n",
    "objectives $\\forall \\ket{k}: \\ket{k} \\rightarrow \\Op{O} \\ket{k}$:\n"
   ]
  },
  {
   "cell_type": "code",
   "execution_count": 10,
   "metadata": {
    "ExecuteTime": {
     "end_time": "2020-03-21T21:18:04.784286Z",
     "start_time": "2020-03-21T21:18:04.764412Z"
    },
    "execution": {
     "iopub.execute_input": "2021-11-07T04:48:44.385494Z",
     "iopub.status.busy": "2021-11-07T04:48:44.385081Z",
     "iopub.status.idle": "2021-11-07T04:48:44.386999Z",
     "shell.execute_reply": "2021-11-07T04:48:44.387242Z"
    },
    "lines_to_next_cell": 2,
    "scrolled": true
   },
   "outputs": [
    {
     "data": {
      "text/plain": [
       "[Objective[|Ψ₀(17)⟩ to |Ψ₁(17)⟩ via [H₀[17,17], [H₁[17,17], u₁(t)]]],\n",
       " Objective[|Ψ₁(17)⟩ to |Ψ₀(17)⟩ via [H₀[17,17], [H₁[17,17], u₁(t)]]]]"
      ]
     },
     "execution_count": 1,
     "metadata": {},
     "output_type": "execute_result"
    }
   ],
   "source": [
    "objectives = krotov.gate_objectives(\n",
    "    basis_states=[psi0, psi1], gate=qutip.operators.sigmax(), H=H\n",
    ")\n",
    "\n",
    "objectives"
   ]
  },
  {
   "cell_type": "markdown",
   "metadata": {},
   "source": [
    "## Dynamics of the guess pulse\n"
   ]
  },
  {
   "cell_type": "code",
   "execution_count": 11,
   "metadata": {
    "ExecuteTime": {
     "end_time": "2020-03-21T21:18:06.867395Z",
     "start_time": "2020-03-21T21:18:05.911538Z"
    },
    "execution": {
     "iopub.execute_input": "2021-11-07T04:48:44.730643Z",
     "iopub.status.busy": "2021-11-07T04:48:44.730335Z",
     "iopub.status.idle": "2021-11-07T04:48:44.731783Z",
     "shell.execute_reply": "2021-11-07T04:48:44.731526Z"
    }
   },
   "outputs": [],
   "source": [
    "guess_dynamics = [\n",
    "    objectives[x].mesolve(tlist, e_ops=[proj0, proj1]) for x in [0, 1]\n",
    "]"
   ]
  },
  {
   "cell_type": "code",
   "execution_count": 12,
   "metadata": {
    "ExecuteTime": {
     "end_time": "2020-03-21T21:18:07.430449Z",
     "start_time": "2020-03-21T21:18:07.421285Z"
    },
    "execution": {
     "iopub.execute_input": "2021-11-07T04:48:44.734494Z",
     "iopub.status.busy": "2021-11-07T04:48:44.734196Z",
     "iopub.status.idle": "2021-11-07T04:48:44.735380Z",
     "shell.execute_reply": "2021-11-07T04:48:44.735612Z"
    }
   },
   "outputs": [],
   "source": [
    "def plot_population(result):\n",
    "    '''Representation of the expected values for the initial states'''\n",
    "    fig, ax = plt.subplots()\n",
    "    ax.plot(result.times, result.expect[0], label='0')\n",
    "    ax.plot(result.times, result.expect[1], label='1')\n",
    "    ax.legend()\n",
    "    ax.set_xlabel('time')\n",
    "    ax.set_ylabel('population')\n",
    "    plt.show(fig)"
   ]
  },
  {
   "cell_type": "code",
   "execution_count": 13,
   "metadata": {
    "ExecuteTime": {
     "end_time": "2020-03-21T21:18:08.656996Z",
     "start_time": "2020-03-21T21:18:08.195251Z"
    },
    "execution": {
     "iopub.execute_input": "2021-11-07T04:48:44.760384Z",
     "iopub.status.busy": "2021-11-07T04:48:44.760085Z",
     "iopub.status.idle": "2021-11-07T04:48:44.900843Z",
     "shell.execute_reply": "2021-11-07T04:48:44.900538Z"
    }
   },
   "outputs": [
    {
     "data": {
      "image/png": "[encoded data removed]",
      "text/plain": [
       "<Figure size 432x288 with 1 Axes>"
      ]
     },
     "metadata": {
      "needs_background": "light"
     },
     "output_type": "display_data"
    },
    {
     "data": {
      "image/png": "[encoded data removed]",
      "text/plain": [
       "<Figure size 432x288 with 1 Axes>"
      ]
     },
     "metadata": {
      "needs_background": "light"
     },
     "output_type": "display_data"
    }
   ],
   "source": [
    "plot_population(guess_dynamics[0])\n",
    "plot_population(guess_dynamics[1])"
   ]
  },
  {
   "cell_type": "markdown",
   "metadata": {},
   "source": [
    "## Optimization"
   ]
  },
  {
   "cell_type": "markdown",
   "metadata": {},
   "source": [
    "We define the desired shape of the update and the factor $\\lambda_a$, and then start the optimization"
   ]
  },
  {
   "cell_type": "code",
   "execution_count": 14,
   "metadata": {
    "ExecuteTime": {
     "end_time": "2020-03-21T21:18:11.081557Z",
     "start_time": "2020-03-21T21:18:11.065096Z"
    },
    "execution": {
     "iopub.execute_input": "2021-11-07T04:48:44.903381Z",
     "iopub.status.busy": "2021-11-07T04:48:44.903097Z",
     "iopub.status.idle": "2021-11-07T04:48:44.904742Z",
     "shell.execute_reply": "2021-11-07T04:48:44.904449Z"
    }
   },
   "outputs": [],
   "source": [
    "def S(t):\n",
    "    \"\"\"Scales the Krotov methods update of the pulse value at the time t\"\"\"\n",
    "    return krotov.shapes.flattop(\n",
    "        t, t_start=0.0, t_stop=10.0, t_rise=0.5, func='sinsq'\n",
    "    )\n",
    "\n",
    "pulse_options = {H[1][1]: dict(lambda_a=1, update_shape=S)}\n"
   ]
  },
  {
   "cell_type": "code",
   "execution_count": 15,
   "metadata": {
    "ExecuteTime": {
     "end_time": "2020-03-21T21:19:48.367084Z",
     "start_time": "2020-03-21T21:18:15.565391Z"
    },
    "execution": {
     "iopub.execute_input": "2021-11-07T04:48:44.909499Z",
     "iopub.status.busy": "2021-11-07T04:48:44.909205Z",
     "iopub.status.idle": "2021-11-07T04:49:36.592638Z",
     "shell.execute_reply": "2021-11-07T04:49:36.593082Z"
    }
   },
   "outputs": [
    {
     "name": "stdout",
     "output_type": "stream",
     "text": [
      "iter.      J_T    g_a_int          J  Delta J_T    Delta J  secs\n",
      "0     1.00e+00   0.00e+00   1.00e+00        n/a        n/a     4\n",
      "1     2.80e-01   3.61e-01   6.41e-01  -7.20e-01  -3.59e-01     9\n",
      "2     2.12e-01   3.42e-02   2.46e-01  -6.81e-02  -3.39e-02     9\n",
      "3     1.35e-01   3.88e-02   1.74e-01  -7.72e-02  -3.83e-02     9\n",
      "4     9.79e-02   1.87e-02   1.17e-01  -3.71e-02  -1.84e-02     9\n",
      "5     7.13e-02   1.34e-02   8.47e-02  -2.65e-02  -1.32e-02     9\n"
     ]
    }
   ],
   "source": [
    "opt_result = krotov.optimize_pulses(\n",
    "    objectives,\n",
    "    pulse_options,\n",
    "    tlist,\n",
    "    propagator=krotov.propagators.expm,\n",
    "    chi_constructor=krotov.functionals.chis_re,\n",
    "    info_hook=krotov.info_hooks.print_table(\n",
    "        J_T=krotov.functionals.J_T_re,\n",
    "        show_g_a_int_per_pulse=True,\n",
    "        unicode=False,\n",
    "    ),\n",
    "    check_convergence=krotov.convergence.Or(\n",
    "        krotov.convergence.value_below(1e-3, name='J_T'),\n",
    "        krotov.convergence.delta_below(1e-5),\n",
    "        krotov.convergence.check_monotonic_error,\n",
    "    ),\n",
    "    iter_stop=5,\n",
    "    parallel_map=(\n",
    "        krotov.parallelization.parallel_map,\n",
    "        krotov.parallelization.parallel_map,\n",
    "        krotov.parallelization.parallel_map_fw_prop_step,\n",
    "    ),\n",
    ")"
   ]
  },
  {
   "cell_type": "markdown",
   "metadata": {},
   "source": [
    "(this takes a while ...)"
   ]
  },
  {
   "cell_type": "code",
   "execution_count": 16,
   "metadata": {
    "ExecuteTime": {
     "end_time": "2020-03-21T21:19:54.234031Z",
     "start_time": "2020-03-21T21:19:54.217987Z"
    },
    "execution": {
     "iopub.execute_input": "2021-11-07T04:49:36.599266Z",
     "iopub.status.busy": "2021-11-07T04:49:36.598747Z",
     "iopub.status.idle": "2021-11-07T04:49:36.605861Z",
     "shell.execute_reply": "2021-11-07T04:49:36.606489Z"
    },
    "lines_to_next_cell": 2
   },
   "outputs": [],
   "source": [
    "dumpfile = \"./transmonxgate_opt_result.dump\"\n",
    "if os.path.isfile(dumpfile):\n",
    "    opt_result = krotov.result.Result.load(dumpfile, objectives)\n",
    "else:\n",
    "    opt_result = krotov.optimize_pulses(\n",
    "        objectives,\n",
    "        pulse_options,\n",
    "        tlist,\n",
    "        propagator=krotov.propagators.expm,\n",
    "        chi_constructor=krotov.functionals.chis_re,\n",
    "        info_hook=krotov.info_hooks.print_table(\n",
    "            J_T=krotov.functionals.J_T_re,\n",
    "            show_g_a_int_per_pulse=True,\n",
    "            unicode=False,\n",
    "        ),\n",
    "        check_convergence=krotov.convergence.Or(\n",
    "            krotov.convergence.value_below(1e-3, name='J_T'),\n",
    "            krotov.convergence.delta_below(1e-5),\n",
    "            krotov.convergence.check_monotonic_error,\n",
    "        ),\n",
    "        iter_stop=1000,\n",
    "        parallel_map=(\n",
    "            qutip.parallel_map,\n",
    "            qutip.parallel_map,\n",
    "            krotov.parallelization.parallel_map_fw_prop_step,\n",
    "        ),\n",
    "        continue_from=opt_result\n",
    "    )\n",
    "    opt_result.dump(dumpfile)"
   ]
  },
  {
   "cell_type": "code",
   "execution_count": 17,
   "metadata": {
    "ExecuteTime": {
     "end_time": "2020-03-21T21:19:55.184889Z",
     "start_time": "2020-03-21T21:19:55.178133Z"
    },
    "execution": {
     "iopub.execute_input": "2021-11-07T04:49:36.610653Z",
     "iopub.status.busy": "2021-11-07T04:49:36.610133Z",
     "iopub.status.idle": "2021-11-07T04:49:36.614920Z",
     "shell.execute_reply": "2021-11-07T04:49:36.615538Z"
    }
   },
   "outputs": [
    {
     "data": {
      "text/plain": [
       "Krotov Optimization Result\n",
       "--------------------------\n",
       "- Started at 2019-04-12 17:45:43\n",
       "- Number of objectives: 2\n",
       "- Number of iterations: 398\n",
       "- Reason for termination: Reached convergence: Δ(('info_vals', T[-1]),('info_vals', T[-2])) < 1e-05\n",
       "- Ended at 2019-04-12 18:20:47 (0:35:04)"
      ]
     },
     "execution_count": 1,
     "metadata": {},
     "output_type": "execute_result"
    }
   ],
   "source": [
    "opt_result"
   ]
  },
  {
   "cell_type": "code",
   "execution_count": 18,
   "metadata": {
    "ExecuteTime": {
     "end_time": "2020-03-21T21:19:57.106863Z",
     "start_time": "2020-03-21T21:19:57.099117Z"
    },
    "execution": {
     "iopub.execute_input": "2021-11-07T04:49:36.618243Z",
     "iopub.status.busy": "2021-11-07T04:49:36.617771Z",
     "iopub.status.idle": "2021-11-07T04:49:36.624736Z",
     "shell.execute_reply": "2021-11-07T04:49:36.624302Z"
    }
   },
   "outputs": [],
   "source": [
    "def plot_convergence(result):\n",
    "    fig, ax = plt.subplots()\n",
    "    ax.semilogy(result.iters, np.array(result.info_vals))\n",
    "    ax.set_xlabel('OCT iteration')\n",
    "    ax.set_ylabel('error')\n",
    "    plt.show(fig)"
   ]
  },
  {
   "cell_type": "code",
   "execution_count": 19,
   "metadata": {
    "ExecuteTime": {
     "end_time": "2020-03-21T21:19:58.706232Z",
     "start_time": "2020-03-21T21:19:58.026972Z"
    },
    "execution": {
     "iopub.execute_input": "2021-11-07T04:49:36.627346Z",
     "iopub.status.busy": "2021-11-07T04:49:36.626850Z",
     "iopub.status.idle": "2021-11-07T04:49:37.286004Z",
     "shell.execute_reply": "2021-11-07T04:49:37.285692Z"
    }
   },
   "outputs": [
    {
     "data": {
      "image/png": "[encoded data removed]",
      "text/plain": [
       "<Figure size 432x288 with 1 Axes>"
      ]
     },
     "metadata": {
      "needs_background": "light"
     },
     "output_type": "display_data"
    }
   ],
   "source": [
    "plot_convergence(opt_result)"
   ]
  },
  {
   "cell_type": "markdown",
   "metadata": {},
   "source": [
    "## Optimized pulse and dynamics"
   ]
  },
  {
   "cell_type": "markdown",
   "metadata": {},
   "source": [
    "We obtain the following optimized pulse:"
   ]
  },
  {
   "cell_type": "code",
   "execution_count": 20,
   "metadata": {
    "ExecuteTime": {
     "end_time": "2020-03-21T21:20:00.640274Z",
     "start_time": "2020-03-21T21:20:00.433074Z"
    },
    "execution": {
     "iopub.execute_input": "2021-11-07T04:49:37.298254Z",
     "iopub.status.busy": "2021-11-07T04:49:37.297959Z",
     "iopub.status.idle": "2021-11-07T04:49:37.360594Z",
     "shell.execute_reply": "2021-11-07T04:49:37.360272Z"
    }
   },
   "outputs": [
    {
     "data": {
      "image/png": "[encoded data removed]",
      "text/plain": [
       "<Figure size 432x288 with 1 Axes>"
      ]
     },
     "metadata": {
      "needs_background": "light"
     },
     "output_type": "display_data"
    }
   ],
   "source": [
    "plot_pulse(opt_result.optimized_controls[0], tlist)"
   ]
  },
  {
   "cell_type": "markdown",
   "metadata": {},
   "source": [
    "The oscillations in the control shape indicate non-negligible spectral broadening:"
   ]
  },
  {
   "cell_type": "code",
   "execution_count": 21,
   "metadata": {
    "ExecuteTime": {
     "end_time": "2020-03-21T21:20:03.040946Z",
     "start_time": "2020-03-21T21:20:02.755327Z"
    },
    "execution": {
     "iopub.execute_input": "2021-11-07T04:49:37.364647Z",
     "iopub.status.busy": "2021-11-07T04:49:37.364345Z",
     "iopub.status.idle": "2021-11-07T04:49:37.496571Z",
     "shell.execute_reply": "2021-11-07T04:49:37.496261Z"
    }
   },
   "outputs": [
    {
     "data": {
      "image/png": "[encoded data removed]",
      "text/plain": [
       "<Figure size 432x288 with 1 Axes>"
      ]
     },
     "metadata": {
      "needs_background": "light"
     },
     "output_type": "display_data"
    }
   ],
   "source": [
    "def plot_spectrum(pulse, tlist, xlim=None):\n",
    "\n",
    "    if callable(pulse):\n",
    "        pulse = np.array([pulse(t, None) for t in tlist])\n",
    "\n",
    "    dt = tlist[1] - tlist[0]\n",
    "    n = len(tlist)\n",
    "\n",
    "    w = np.fft.fftfreq(n, d=dt/(2.0*np.pi))\n",
    "    # the factor 2π in the normalization means that\n",
    "    # the spectrum is in units of angular frequency,\n",
    "    # which is normally what we want\n",
    "\n",
    "    spectrum = np.fft.fft(pulse) / n\n",
    "    # normalizing the spectrum with n means that\n",
    "    # the y-axis is independent of dt\n",
    "\n",
    "    # we assume a real-valued pulse, so we throw away\n",
    "    # the half of the spectrum with negative frequencies\n",
    "    w = w[range(int(n / 2))]\n",
    "    spectrum = np.abs(spectrum[range(int(n / 2))])\n",
    "\n",
    "    fig, ax = plt.subplots()\n",
    "    ax.plot(w, spectrum, '-o')\n",
    "    ax.set_xlabel(r'$\\omega$')\n",
    "    ax.set_ylabel('amplitude (arb. units)')\n",
    "    if xlim is not None:\n",
    "        ax.set_xlim(*xlim)\n",
    "    plt.show(fig)\n",
    "\n",
    "\n",
    "plot_spectrum(opt_result.optimized_controls[0], tlist, xlim=(0, 40))"
   ]
  },
  {
   "cell_type": "markdown",
   "metadata": {},
   "source": [
    "Lastly, we verify that the pulse produces the desired dynamics $\\ket{0_l} \\rightarrow \\ket{1_l}$ and $\\ket{1_l} \\rightarrow \\ket{0_l}$:"
   ]
  },
  {
   "cell_type": "code",
   "execution_count": 22,
   "metadata": {
    "ExecuteTime": {
     "end_time": "2020-03-21T21:20:05.388221Z",
     "start_time": "2020-03-21T21:20:04.164574Z"
    },
    "execution": {
     "iopub.execute_input": "2021-11-07T04:49:37.603580Z",
     "iopub.status.busy": "2021-11-07T04:49:37.603275Z",
     "iopub.status.idle": "2021-11-07T04:49:37.711585Z",
     "shell.execute_reply": "2021-11-07T04:49:37.711256Z"
    }
   },
   "outputs": [],
   "source": [
    "opt_dynamics = [\n",
    "    opt_result.optimized_objectives[x].mesolve(tlist, e_ops=[proj0, proj1])\n",
    "    for x in [0, 1]\n",
    "]"
   ]
  },
  {
   "cell_type": "code",
   "execution_count": 23,
   "metadata": {
    "ExecuteTime": {
     "end_time": "2020-03-21T21:20:05.916763Z",
     "start_time": "2020-03-21T21:20:05.686139Z"
    },
    "execution": {
     "iopub.execute_input": "2021-11-07T04:49:37.736407Z",
     "iopub.status.busy": "2021-11-07T04:49:37.736112Z",
     "iopub.status.idle": "2021-11-07T04:49:37.803511Z",
     "shell.execute_reply": "2021-11-07T04:49:37.803187Z"
    }
   },
   "outputs": [
    {
     "data": {
      "image/png": "[encoded data removed]",
      "text/plain": [
       "<Figure size 432x288 with 1 Axes>"
      ]
     },
     "metadata": {
      "needs_background": "light"
     },
     "output_type": "display_data"
    }
   ],
   "source": [
    "plot_population(opt_dynamics[0])"
   ]
  },
  {
   "cell_type": "code",
   "execution_count": 24,
   "metadata": {
    "ExecuteTime": {
     "end_time": "2020-03-21T21:20:06.453462Z",
     "start_time": "2020-03-21T21:20:06.250554Z"
    },
    "execution": {
     "iopub.execute_input": "2021-11-07T04:49:37.815263Z",
     "iopub.status.busy": "2021-11-07T04:49:37.813412Z",
     "iopub.status.idle": "2021-11-07T04:49:37.892742Z",
     "shell.execute_reply": "2021-11-07T04:49:37.892414Z"
    },
    "lines_to_next_cell": 2
   },
   "outputs": [
    {
     "data": {
      "image/png": "[encoded data removed]",
      "text/plain": [
       "<Figure size 432x288 with 1 Axes>"
      ]
     },
     "metadata": {
      "needs_background": "light"
     },
     "output_type": "display_data"
    }
   ],
   "source": [
    "plot_population(opt_dynamics[1])"
   ]
  },
  {
   "cell_type": "markdown",
   "metadata": {},
   "source": [
    "Since the optimized pulse shows some oscillations (cf. the spectrum above),\n",
    "it is a good idea to check for any discretization error. To this end, we also\n",
    "propagate the optimization result using the same propagator that\n",
    "was used in the optimization (instead of `qutip.mesolve`). The main difference\n",
    "between the two propagations is that `mesolve` assumes piecewise constant\n",
    "pulses that switch between two points in `tlist`, whereas `propagate` assumes\n",
    "that pulses are constant on the intervals of `tlist`, and thus switches *on*\n",
    "the points in `tlist`."
   ]
  },
  {
   "cell_type": "code",
   "execution_count": 25,
   "metadata": {
    "ExecuteTime": {
     "end_time": "2020-03-21T21:20:11.269620Z",
     "start_time": "2020-03-21T21:20:07.755573Z"
    },
    "execution": {
     "iopub.execute_input": "2021-11-07T04:49:37.896966Z",
     "iopub.status.busy": "2021-11-07T04:49:37.896333Z",
     "iopub.status.idle": "2021-11-07T04:49:40.978445Z",
     "shell.execute_reply": "2021-11-07T04:49:40.978180Z"
    }
   },
   "outputs": [],
   "source": [
    "opt_dynamics2 = [\n",
    "    opt_result.optimized_objectives[x].propagate(\n",
    "        tlist, e_ops=[proj0, proj1], propagator=krotov.propagators.expm\n",
    "    )\n",
    "    for x in [0, 1]\n",
    "]"
   ]
  },
  {
   "cell_type": "markdown",
   "metadata": {},
   "source": [
    "The difference between the two propagations gives an indication of the error\n",
    "due to the choice of the piecewise constant time discretization. If this error\n",
    "were unacceptably large, we would need a smaller time step."
   ]
  },
  {
   "cell_type": "code",
   "execution_count": 26,
   "metadata": {
    "ExecuteTime": {
     "end_time": "2020-03-21T21:20:15.957560Z",
     "start_time": "2020-03-21T21:20:15.951751Z"
    },
    "execution": {
     "iopub.execute_input": "2021-11-07T04:49:40.980951Z",
     "iopub.status.busy": "2021-11-07T04:49:40.980642Z",
     "iopub.status.idle": "2021-11-07T04:49:40.982541Z",
     "shell.execute_reply": "2021-11-07T04:49:40.982242Z"
    }
   },
   "outputs": [
    {
     "name": "stdout",
     "output_type": "stream",
     "text": [
      "Time discretization error = 1.9e-05\n"
     ]
    }
   ],
   "source": [
    "# NBVAL_IGNORE_OUTPUT\n",
    "# Note: the particular error value may depend on the version of QuTiP\n",
    "print(\n",
    "    \"Time discretization error = %.1e\" %\n",
    "    abs(opt_dynamics2[0].expect[1][-1] - opt_dynamics[0].expect[1][-1])\n",
    ")"
   ]
  }
 ],
 "metadata": {
  "hide_input": false,
  "jupytext": {
   "formats": ""
  },
  "kernelspec": {
   "display_name": "Python 3",
   "language": "python",
   "name": "python3"
  },
  "language_info": {
   "codemirror_mode": {
    "name": "ipython",
    "version": 3
   },
   "file_extension": ".py",
   "mimetype": "text/x-python",
   "name": "python",
   "nbconvert_exporter": "python",
   "pygments_lexer": "ipython3",
   "version": "3.8.1"
  },
  "toc": {
   "base_numbering": 1,
   "nav_menu": {},
   "number_sections": true,
   "sideBar": true,
   "skip_h1_title": false,
   "title_cell": "Table of Contents",
   "title_sidebar": "Contents",
   "toc_cell": false,
   "toc_position": {},
   "toc_section_display": true,
   "toc_window_display": false
  },
  "varInspector": {
   "cols": {
    "lenName": 16,
    "lenType": 16,
    "lenVar": 40
   },
   "kernels_config": {
    "python": {
     "delete_cmd_postfix": "",
     "delete_cmd_prefix": "del ",
     "library": "var_list.py",
     "varRefreshCmd": "print(var_dic_list())"
    },
    "r": {
     "delete_cmd_postfix": ") ",
     "delete_cmd_prefix": "rm(",
     "library": "var_list.r",
     "varRefreshCmd": "cat(var_dic_list()) "
    }
   },
   "types_to_exclude": [
    "module",
    "function",
    "builtin_function_or_method",
    "instance",
    "_Feature"
   ],
   "window_display": false
  }
 },
 "nbformat": 4,
 "nbformat_minor": 2
}
