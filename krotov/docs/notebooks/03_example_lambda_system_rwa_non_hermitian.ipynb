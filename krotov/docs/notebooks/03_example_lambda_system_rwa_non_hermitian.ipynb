{
 "cells": [
  {
   "cell_type": "markdown",
   "metadata": {},
   "source": [
    "# Optimization of a Dissipative State-to-State Transfer in a Lambda System"
   ]
  },
  {
   "cell_type": "code",
   "execution_count": 1,
   "metadata": {
    "ExecuteTime": {
     "end_time": "2019-11-10T17:36:51.297636Z",
     "start_time": "2019-11-10T17:36:49.706568Z"
    },
    "attributes": {
     "classes": [],
     "id": "",
     "n": "1"
    },
    "execution": {
     "iopub.execute_input": "2021-11-07T04:49:47.386239Z",
     "iopub.status.busy": "2021-11-07T04:49:47.380857Z",
     "iopub.status.idle": "2021-11-07T04:49:48.431377Z",
     "shell.execute_reply": "2021-11-07T04:49:48.431000Z"
    }
   },
   "outputs": [
    {
     "name": "stdout",
     "output_type": "stream",
     "text": [
      "Python implementation: CPython\n",
      "Python version       : 3.8.1\n",
      "IPython version      : 7.24.1\n",
      "\n",
      "krotov    : 1.2.1+dev\n",
      "matplotlib: 3.4.2\n",
      "qutip     : 4.6.1\n",
      "numpy     : 1.20.3\n",
      "scipy     : 1.6.3\n",
      "\n"
     ]
    }
   ],
   "source": [
    "# NBVAL_IGNORE_OUTPUT\n",
    "%load_ext watermark\n",
    "import os\n",
    "import qutip\n",
    "import numpy as np\n",
    "import scipy\n",
    "import matplotlib\n",
    "import matplotlib.pylab as plt\n",
    "import krotov\n",
    "import qutip\n",
    "from qutip import Qobj\n",
    "import pickle\n",
    "from functools import partial\n",
    "%watermark -v --iversions"
   ]
  },
  {
   "cell_type": "markdown",
   "metadata": {},
   "source": [
    "$\\newcommand{tr}[0]{\\operatorname{tr}}\n",
    "\\newcommand{diag}[0]{\\operatorname{diag}}\n",
    "\\newcommand{abs}[0]{\\operatorname{abs}}\n",
    "\\newcommand{pop}[0]{\\operatorname{pop}}\n",
    "\\newcommand{aux}[0]{\\text{aux}}\n",
    "\\newcommand{opt}[0]{\\text{opt}}\n",
    "\\newcommand{tgt}[0]{\\text{tgt}}\n",
    "\\newcommand{init}[0]{\\text{init}}\n",
    "\\newcommand{lab}[0]{\\text{lab}}\n",
    "\\newcommand{rwa}[0]{\\text{rwa}}\n",
    "\\newcommand{bra}[1]{\\langle#1\\vert}\n",
    "\\newcommand{ket}[1]{\\vert#1\\rangle}\n",
    "\\newcommand{Bra}[1]{\\left\\langle#1\\right\\vert}\n",
    "\\newcommand{Ket}[1]{\\left\\vert#1\\right\\rangle}\n",
    "\\newcommand{Braket}[2]{\\left\\langle #1\\vphantom{#2}\\mid{#2}\\vphantom{#1}\\right\\rangle}\n",
    "\\newcommand{ketbra}[2]{\\vert#1\\rangle\\!\\langle#2\\vert}\n",
    "\\newcommand{op}[1]{\\hat{#1}}\n",
    "\\newcommand{Op}[1]{\\hat{#1}}\n",
    "\\newcommand{dd}[0]{\\,\\text{d}}\n",
    "\\newcommand{Liouville}[0]{\\mathcal{L}}\n",
    "\\newcommand{DynMap}[0]{\\mathcal{E}}\n",
    "\\newcommand{identity}[0]{\\mathbf{1}}\n",
    "\\newcommand{Norm}[1]{\\lVert#1\\rVert}\n",
    "\\newcommand{Abs}[1]{\\left\\vert#1\\right\\vert}\n",
    "\\newcommand{avg}[1]{\\langle#1\\rangle}\n",
    "\\newcommand{Avg}[1]{\\left\\langle#1\\right\\rangle}\n",
    "\\newcommand{AbsSq}[1]{\\left\\vert#1\\right\\vert^2}\n",
    "\\newcommand{Re}[0]{\\operatorname{Re}}\n",
    "\\newcommand{Im}[0]{\\operatorname{Im}}\n",
    "\\newcommand{toP}[0]{\\omega_{12}}\n",
    "\\newcommand{toS}[0]{\\omega_{23}}$"
   ]
  },
  {
   "cell_type": "markdown",
   "metadata": {},
   "source": [
    "This example illustrates the use of Krotov's method with a non-Hermitian\n",
    "Hamiltonian. It considers the same system as the [previous\n",
    "example](02_example_lambda_system_rwa_complex_pulse.ipynb), a transition\n",
    "$\\ket{1} \\rightarrow \\ket{3}$ in a three-level system in a\n",
    "$\\Lambda$-configuration. However, here we add a non-Hermitian decay term to\n",
    "model loss from the intermediary level $\\ket{2}$. At a technical level, this\n",
    "examples also illustrates how to use `args` in time-dependent control fields\n",
    "(\"QuTiP style\"), as opposed to hard-coding parameters or setting them through\n",
    "a closure, as was done in the previous examples."
   ]
  },
  {
   "cell_type": "markdown",
   "metadata": {},
   "source": [
    "## The effective Hamiltonian\n",
    "\n",
    "We consider the system as in the following diagram:\n",
    "\n",
    "![Lambda system considered in this notebook](energylevels.png)\n",
    "\n",
    "with the Hamiltonian\n",
    "\n",
    "$$\n",
    "\\Op{H}_{\\text{lab}} = \\begin{pmatrix}\n",
    "    E_1                     & -\\mu_{12} \\epsilon_P(t) & 0                          \\\\\n",
    "    -\\mu_{12} \\epsilon_P(t) & E_2                     & - \\mu_{23} \\epsilon_S(t) \\\\\n",
    "    0                       & -\\mu_{23} \\epsilon_S(t) &  E_2\n",
    "\\end{pmatrix}\n",
    "$$\n",
    "\n",
    "in the lab frame.\n",
    "\n",
    "However, we now also include that the level $\\ket{2}$ decays incoherently. This\n",
    "is the primary motivation of the STIRAP scheme: through destructive\n",
    "interference it can keep the dynamics in a \"dark state\" where the population is\n",
    "transferred from $\\ket{1}$ to $\\ket{3}$ without ever populating the $\\ket{2}$\n",
    "state. A rigorous treatment would be to include the dissipation as a Lindblad\n",
    "operator, and to simulate the dynamics and perform the optimization in\n",
    "Liouville space. The Lindblad operator for spontaneous decay from level\n",
    "$\\ket{2}$ with decay rate $2\\gamma$ is $\\Op{L} = \\sqrt{2\\gamma} \\ketbra{1}{2}$.\n",
    "However, this is numerically expensive. For the optimization,\n",
    "it is sufficient to find a way to penalize population in the $\\ket{2}$ state.\n",
    "\n",
    "Motivated by the [Monte-Carlo Wave Function\n",
    "(MCWF)](https://en.wikipedia.org/wiki/Quantum_jump_method) method, we define\n",
    "the non-Hermitian *effective Hamiltonian*\n",
    "\n",
    "$$\n",
    "\\Op{H}_{\\text{eff}} = \\Op{H}_{\\text{lab}} - \\frac{i}{2} \\Op{L}^{\\dagger} \\Op{L}\n",
    "$$\n",
    "\n",
    "In explicit form, this is\n",
    "\n",
    "$$\n",
    "\\Op{H}_{\\text{eff}} = \\begin{pmatrix}\n",
    "    E_1                     & -\\mu_{12} \\epsilon_P(t) & 0                          \\\\\n",
    "    -\\mu_{12} \\epsilon_P(t) & E_2 - i \\gamma          & - \\mu_{23} \\epsilon_S(t)   \\\\\n",
    "    0                       & -\\mu_{23} \\epsilon_S(t) &  E_2\n",
    "\\end{pmatrix}\n",
    "$$\n",
    "\n",
    "The only change is that the energy of level $\\ket{2}$ now has an imaginary part\n",
    "$-\\gamma$, which causes an exponential decay of any population amplitude in\n",
    "$\\ket{2}$, and thus a decay in the norm of the state. In the MCWF, this decay\n",
    "of the norm is used to track the probability that quantum jump occurs\n",
    "(otherwise, the state is re-normalized). Here, we do not perform quantum jumps\n",
    "or renormalize the state. Instead, we use the decay in the norm to steer the\n",
    "optimization. Using the functional\n",
    "\n",
    "$$\n",
    "J_{T, \\text{re}} = 1 - \\Re{\\Braket{\\Psi(T)}{\\Psi^{\\tgt}}}\n",
    "$$\n",
    "\n",
    "to be minimized, we find that the value of\n",
    "the functional increases if $\\Norm{\\ket{\\Psi(T)}} < 1$. Thus, population in\n",
    "$\\ket{2}$ is penalized, without any significant numerical overhead.\n",
    "\n",
    "The decay rate $2\\gamma$ does not necessarily need to correspond to the actual\n",
    "physical lifetime of the $\\ket{2}$ state: we can choose an artificially high\n",
    "decay rate to put a stronger penalty on the $\\ket{2}$ level. Or, if the\n",
    "physical decay is so strong that the norm of the state reaches effectively\n",
    "zero, we could decrease $\\gamma$ to avoid numerical instability. The use of a\n",
    "non-Hermitian Hamiltonian with artificial decay is generally a useful trick to\n",
    "penalize population in a subspace.\n",
    "\n",
    "The new non-Hermitian decay term remains unchanged when we make the rotating\n",
    "wave approximation. The RWA Hamiltonian now reads\n",
    "\n",
    "$$\n",
    "\\Op{H}_{\\text{RWA}} = \\begin{pmatrix}\n",
    "    \\Delta_P                    & -\\frac{1}{2} \\Omega_P(t)   & 0                          \\\\\n",
    "    -\\frac{1}{2} \\Omega_P^*(t)  & -i \\gamma                  &  -\\frac{1}{2} \\Omega_S(t)  \\\\\n",
    "    0                           & -\\frac{1}{2} \\Omega_S^*(t) & \\Delta_S\n",
    "\\end{pmatrix}\\,,\n",
    "$$\n",
    "\n",
    "with complex control fields $\\Omega_P(t)$ and $\\Omega_S(t)$, see the [previous\n",
    "example](02_example_lambda_system_rwa_complex_pulse.ipynb). Again, we split\n",
    "these complex pulses into an independent real and imaginary part for the\n",
    "purpose of optimization.\n",
    "\n",
    "The guess controls are"
   ]
  },
  {
   "cell_type": "code",
   "execution_count": 2,
   "metadata": {
    "ExecuteTime": {
     "end_time": "2019-11-10T17:36:51.316137Z",
     "start_time": "2019-11-10T17:36:51.300148Z"
    },
    "execution": {
     "iopub.execute_input": "2021-11-07T04:49:48.435713Z",
     "iopub.status.busy": "2021-11-07T04:49:48.435331Z",
     "iopub.status.idle": "2021-11-07T04:49:48.437149Z",
     "shell.execute_reply": "2021-11-07T04:49:48.436836Z"
    }
   },
   "outputs": [],
   "source": [
    "def Omega_P1(t, args):\n",
    "    \"\"\"Guess for the real part of the pump pulse.\n",
    "\n",
    "    Blackman shape with amplitude `Ω0` from `t0P` to `t0P` + `ΔTP`, with\n",
    "    parameters from `args`.\n",
    "    \"\"\"\n",
    "    t0 = args['t0P']\n",
    "    T = t0 + args['ΔTP']\n",
    "    return args['Ω0'] * krotov.shapes.blackman(t, t_start=t0, t_stop=T)\n",
    "\n",
    "\n",
    "def Omega_P2(t, args):\n",
    "    \"\"\"Guess for the imaginary part of the pump pulse (zero).\"\"\"\n",
    "    return 0.0\n",
    "\n",
    "\n",
    "def Omega_S1(t, args):\n",
    "    \"\"\"Guess for the real part of the Stokes pulse.\n",
    "\n",
    "    Blackman shape with amplitude `Ω0` from `t0S` to `t0S` + `ΔTS`, with\n",
    "    parameters from `args`.\n",
    "    \"\"\"\n",
    "    t0 = args['t0S']\n",
    "    T = t0 + args['ΔTS']\n",
    "    return args['Ω0'] * krotov.shapes.blackman(t, t_start=t0, t_stop=T)\n",
    "\n",
    "\n",
    "def Omega_S2(t, args):\n",
    "    \"\"\"Guess for the imaginary part of the Stokes pulse (zero).\"\"\"\n",
    "    return 0.0"
   ]
  },
  {
   "cell_type": "markdown",
   "metadata": {},
   "source": [
    "with the Hamiltonian defined as"
   ]
  },
  {
   "cell_type": "code",
   "execution_count": 3,
   "metadata": {
    "ExecuteTime": {
     "end_time": "2019-11-10T17:36:51.334402Z",
     "start_time": "2019-11-10T17:36:51.319722Z"
    },
    "execution": {
     "iopub.execute_input": "2021-11-07T04:49:48.441978Z",
     "iopub.status.busy": "2021-11-07T04:49:48.441592Z",
     "iopub.status.idle": "2021-11-07T04:49:48.443405Z",
     "shell.execute_reply": "2021-11-07T04:49:48.443027Z"
    }
   },
   "outputs": [],
   "source": [
    "def hamiltonian(args):\n",
    "    \"\"\"Lambda-system Hamiltonian in the RWA\"\"\"\n",
    "    E1, E2, E3, ΩP, ΩS, γ = (args[key] for key in 'E1 E2 E3 ΩP ΩS γ'.split())\n",
    "\n",
    "    # detunings\n",
    "    ΔP = E1 + ΩP - E2\n",
    "    ΔS = E3 + ΩS - E2\n",
    "\n",
    "    H0 = Qobj([[ΔP, 0.0, 0.0], [0.0, -1j * γ, 0.0], [0.0, 0.0, ΔS]])\n",
    "\n",
    "    HP_re = -0.5 * Qobj([[0.0, 1.0, 0.0], [1.0, 0.0, 0.0], [0.0, 0.0, 0.0]])\n",
    "    HP_im = -0.5 * Qobj([[0.0, 1.0j, 0.0], [-1.0j, 0.0, 0.0], [0.0, 0.0, 0.0]])\n",
    "\n",
    "    HS_re = -0.5 * Qobj([[0.0, 0.0, 0.0], [0.0, 0.0, 1.0], [0.0, 1.0, 0.0]])\n",
    "    HS_im = -0.5 * Qobj([[0.0, 0.0, 0.0], [0.0, 0.0, 1.0j], [0.0, -1.0j, 0.0]])\n",
    "\n",
    "    return [\n",
    "        H0,\n",
    "        [HP_re, Omega_P1],\n",
    "        [HP_im, Omega_P2],\n",
    "        [HS_re, Omega_S1],\n",
    "        [HS_im, Omega_S2],\n",
    "    ]"
   ]
  },
  {
   "cell_type": "markdown",
   "metadata": {},
   "source": [
    "and using the following physical parameters:"
   ]
  },
  {
   "cell_type": "code",
   "execution_count": 4,
   "metadata": {
    "ExecuteTime": {
     "end_time": "2019-11-10T17:36:51.343719Z",
     "start_time": "2019-11-10T17:36:51.337196Z"
    },
    "execution": {
     "iopub.execute_input": "2021-11-07T04:49:48.446293Z",
     "iopub.status.busy": "2021-11-07T04:49:48.445914Z",
     "iopub.status.idle": "2021-11-07T04:49:48.447680Z",
     "shell.execute_reply": "2021-11-07T04:49:48.447303Z"
    }
   },
   "outputs": [],
   "source": [
    "ARGS = dict(\n",
    "    Ω0=5.0,  # amplitude of both the Pump and the Stokes laser\n",
    "    ΔTP=3.0,  # duration of the Pump laser\n",
    "    ΔTS=3.0,  # duration of the Stokes laser\n",
    "    t0P=2.0,  # starting time for the Pump laser\n",
    "    t0S=0.0,  # starting time for the Stokes laser\n",
    "    t_rise=0.3,  # switch-on/-off time in update shape\n",
    "    E1=0.0,  # energy of level |1⟩\n",
    "    E2=10.0,  # energy of intermediary level |2⟩\n",
    "    E3=5.0,  # energy of target level |3⟩\n",
    "    ΩP=9.5,  # frequency of the Pump laser\n",
    "    ΩS=4.5,  # frequency of the Stokes laser\n",
    "    γ=0.5,  # decay rate on intermediary level |2⟩\n",
    "    T=5.0,  # total process time\n",
    ")"
   ]
  },
  {
   "cell_type": "markdown",
   "metadata": {},
   "source": [
    "(cf. the [previous example](02_example_lambda_system_rwa_complex_pulse.ipynb),\n",
    "where these values were hard-coded).\n",
    "\n",
    "The Hamiltonian is now instantiated as"
   ]
  },
  {
   "cell_type": "code",
   "execution_count": 5,
   "metadata": {
    "ExecuteTime": {
     "end_time": "2019-11-10T17:36:51.354864Z",
     "start_time": "2019-11-10T17:36:51.346901Z"
    },
    "execution": {
     "iopub.execute_input": "2021-11-07T04:49:48.451697Z",
     "iopub.status.busy": "2021-11-07T04:49:48.451323Z",
     "iopub.status.idle": "2021-11-07T04:49:48.453144Z",
     "shell.execute_reply": "2021-11-07T04:49:48.452769Z"
    },
    "lines_to_next_cell": 2
   },
   "outputs": [],
   "source": [
    "H = hamiltonian(ARGS)"
   ]
  },
  {
   "cell_type": "markdown",
   "metadata": {},
   "source": [
    "We check the hermiticity of the Hamiltonian:"
   ]
  },
  {
   "cell_type": "code",
   "execution_count": 6,
   "metadata": {
    "ExecuteTime": {
     "end_time": "2019-11-10T17:36:51.364285Z",
     "start_time": "2019-11-10T17:36:51.357446Z"
    },
    "attributes": {
     "classes": [],
     "id": "",
     "n": "3"
    },
    "execution": {
     "iopub.execute_input": "2021-11-07T04:49:48.455970Z",
     "iopub.status.busy": "2021-11-07T04:49:48.455596Z",
     "iopub.status.idle": "2021-11-07T04:49:48.457677Z",
     "shell.execute_reply": "2021-11-07T04:49:48.457303Z"
    },
    "lines_to_next_cell": 2
   },
   "outputs": [
    {
     "name": "stdout",
     "output_type": "stream",
     "text": [
      "H0 is Hermitian: False\n",
      "H1 is Hermitian: True\n"
     ]
    }
   ],
   "source": [
    "print(\"H0 is Hermitian: \" + str(H[0].isherm))\n",
    "print(\"H1 is Hermitian: \"+ str(\n",
    "        H[1][0].isherm\n",
    "    and H[2][0].isherm\n",
    "    and H[3][0].isherm\n",
    "    and H[4][0].isherm))"
   ]
  },
  {
   "cell_type": "markdown",
   "metadata": {},
   "source": [
    "## Define the optimization target\n",
    "\n",
    "We optimize for the phase-sensitive transition $\\ket{1} \\rightarrow \\ket{3}$.\n",
    "As we are working in the rotating frame, the target state must be adjusted with\n",
    "an appropriate phase factor:"
   ]
  },
  {
   "cell_type": "code",
   "execution_count": 7,
   "metadata": {
    "ExecuteTime": {
     "end_time": "2019-11-10T17:36:51.375198Z",
     "start_time": "2019-11-10T17:36:51.366724Z"
    },
    "execution": {
     "iopub.execute_input": "2021-11-07T04:49:48.462095Z",
     "iopub.status.busy": "2021-11-07T04:49:48.461723Z",
     "iopub.status.idle": "2021-11-07T04:49:48.463406Z",
     "shell.execute_reply": "2021-11-07T04:49:48.463079Z"
    }
   },
   "outputs": [],
   "source": [
    "ket1 = qutip.Qobj(np.array([1.0, 0.0, 0.0]))\n",
    "ket2 = qutip.Qobj(np.array([0.0, 1.0, 0.0]))\n",
    "ket3 = qutip.Qobj(np.array([0.0, 0.0, 1.0]))\n",
    "\n",
    "def rwa_target_state(ket3, *, E2, ΩS, T):\n",
    "    return np.exp(1j * (E2 - ΩS) * T) * ket3\n",
    "\n",
    "psi_target = rwa_target_state(ket3, **{k: ARGS[k] for k in 'E2 ΩS T'.split()})"
   ]
  },
  {
   "cell_type": "markdown",
   "metadata": {},
   "source": [
    "The objective is now instantiated as"
   ]
  },
  {
   "cell_type": "code",
   "execution_count": 8,
   "metadata": {
    "ExecuteTime": {
     "end_time": "2019-11-10T17:36:51.388371Z",
     "start_time": "2019-11-10T17:36:51.381216Z"
    },
    "execution": {
     "iopub.execute_input": "2021-11-07T04:49:48.467551Z",
     "iopub.status.busy": "2021-11-07T04:49:48.467182Z",
     "iopub.status.idle": "2021-11-07T04:49:48.469575Z",
     "shell.execute_reply": "2021-11-07T04:49:48.469260Z"
    },
    "lines_to_next_cell": 2
   },
   "outputs": [
    {
     "data": {
      "text/plain": [
       "[Objective[|Ψ₀(3)⟩ to |Ψ₁(3)⟩ via [A₀[3,3], [H₁[3,3], u₁(t)], [H₂[3,3], u₂(t)], [H₃[3,3], u₃(t)], [H₄[3,3], u₄(t)]]]]"
      ]
     },
     "execution_count": 1,
     "metadata": {},
     "output_type": "execute_result"
    }
   ],
   "source": [
    "objectives = [krotov.Objective(initial_state=ket1, target=psi_target, H=H)]\n",
    "objectives"
   ]
  },
  {
   "cell_type": "markdown",
   "metadata": {},
   "source": [
    "## Simulate dynamics under the guess field\n",
    "\n",
    "We use a time grid with 500 steps between $t=0$ and $T=5$:"
   ]
  },
  {
   "cell_type": "code",
   "execution_count": 9,
   "metadata": {
    "ExecuteTime": {
     "end_time": "2019-11-10T17:36:51.398777Z",
     "start_time": "2019-11-10T17:36:51.393811Z"
    },
    "execution": {
     "iopub.execute_input": "2021-11-07T04:49:48.471989Z",
     "iopub.status.busy": "2021-11-07T04:49:48.471620Z",
     "iopub.status.idle": "2021-11-07T04:49:48.473415Z",
     "shell.execute_reply": "2021-11-07T04:49:48.473033Z"
    }
   },
   "outputs": [],
   "source": [
    "tlist = np.linspace(0, ARGS['T'], 500)"
   ]
  },
  {
   "cell_type": "markdown",
   "metadata": {},
   "source": [
    "We propagate once for the population dynamics, and once to obtain the\n",
    "propagated states for each point on the time grid:"
   ]
  },
  {
   "cell_type": "code",
   "execution_count": 10,
   "metadata": {
    "ExecuteTime": {
     "end_time": "2019-11-10T17:36:54.720111Z",
     "start_time": "2019-11-10T17:36:51.401596Z"
    },
    "execution": {
     "iopub.execute_input": "2021-11-07T04:49:48.502045Z",
     "iopub.status.busy": "2021-11-07T04:49:48.501735Z",
     "iopub.status.idle": "2021-11-07T04:49:50.480578Z",
     "shell.execute_reply": "2021-11-07T04:49:50.479382Z"
    }
   },
   "outputs": [],
   "source": [
    "proj1 = qutip.ket2dm(ket1)\n",
    "proj2 = qutip.ket2dm(ket2)\n",
    "proj3 = qutip.ket2dm(ket3)\n",
    "\n",
    "guess_dynamics = objectives[0].propagate(\n",
    "    tlist,\n",
    "    propagator=krotov.propagators.expm,\n",
    "    e_ops=[proj1, proj2, proj3],\n",
    "    args=ARGS,\n",
    ")\n",
    "guess_states = objectives[0].propagate(\n",
    "    tlist, propagator=krotov.propagators.expm, args=ARGS,\n",
    ")"
   ]
  },
  {
   "cell_type": "code",
   "execution_count": 11,
   "metadata": {
    "ExecuteTime": {
     "end_time": "2019-11-10T17:36:54.741953Z",
     "start_time": "2019-11-10T17:36:54.723039Z"
    },
    "execution": {
     "iopub.execute_input": "2021-11-07T04:49:50.490444Z",
     "iopub.status.busy": "2021-11-07T04:49:50.489736Z",
     "iopub.status.idle": "2021-11-07T04:49:50.491903Z",
     "shell.execute_reply": "2021-11-07T04:49:50.492362Z"
    }
   },
   "outputs": [],
   "source": [
    "def plot_population(result):\n",
    "    fig, ax = plt.subplots()\n",
    "    ax.axhline(y=1.0, color='black', lw=0.5, ls='dashed')\n",
    "    ax.axhline(y=0.0, color='black', lw=0.5, ls='dashed')\n",
    "    ax.plot(result.times, result.expect[0], label='1')\n",
    "    ax.plot(result.times, result.expect[1], label='2')\n",
    "    ax.plot(result.times, result.expect[2], label='3')\n",
    "    ax.legend()\n",
    "    ax.set_xlabel('time')\n",
    "    ax.set_ylabel('population')\n",
    "    plt.show(fig)\n",
    "\n",
    "\n",
    "def plot_norm(result):\n",
    "\n",
    "    state_norm = lambda i: result.states[i].norm()\n",
    "    states_norm=np.vectorize(state_norm)\n",
    "\n",
    "    fig, ax = plt.subplots()\n",
    "    ax.plot(result.times, states_norm(np.arange(len(result.states))))\n",
    "    ax.set_xlabel('time')\n",
    "    ax.set_ylabel('state norm')\n",
    "    plt.show(fig)"
   ]
  },
  {
   "cell_type": "code",
   "execution_count": 12,
   "metadata": {
    "ExecuteTime": {
     "end_time": "2019-11-10T17:36:55.325200Z",
     "start_time": "2019-11-10T17:36:54.746616Z"
    },
    "attributes": {
     "classes": [],
     "id": "",
     "n": "15"
    },
    "execution": {
     "iopub.execute_input": "2021-11-07T04:49:50.534689Z",
     "iopub.status.busy": "2021-11-07T04:49:50.533406Z",
     "iopub.status.idle": "2021-11-07T04:49:50.721111Z",
     "shell.execute_reply": "2021-11-07T04:49:50.720791Z"
    },
    "lines_to_end_of_cell_marker": 2
   },
   "outputs": [
    {
     "data": {
      "image/png": "[encoded data removed]",
      "text/plain": [
       "<Figure size 432x288 with 1 Axes>"
      ]
     },
     "metadata": {
      "needs_background": "light"
     },
     "output_type": "display_data"
    },
    {
     "data": {
      "image/png": "[encoded data removed]",
      "text/plain": [
       "<Figure size 432x288 with 1 Axes>"
      ]
     },
     "metadata": {
      "needs_background": "light"
     },
     "output_type": "display_data"
    }
   ],
   "source": [
    "plot_population(guess_dynamics)\n",
    "plot_norm(guess_states)"
   ]
  },
  {
   "cell_type": "markdown",
   "metadata": {},
   "source": [
    "The population dynamics and the norm-plot show the effect the non-Hermitian\n",
    "term in the Hamiltonian, resulting in a 30% loss.\n",
    "\n",
    "## Optimize\n",
    "\n",
    "For each control, we define the update shape and the $\\lambda_a$ parameter that\n",
    "determines the magnitude of the update:"
   ]
  },
  {
   "cell_type": "code",
   "execution_count": 13,
   "metadata": {
    "ExecuteTime": {
     "end_time": "2019-11-10T17:36:55.332957Z",
     "start_time": "2019-11-10T17:36:55.327833Z"
    },
    "execution": {
     "iopub.execute_input": "2021-11-07T04:49:50.723486Z",
     "iopub.status.busy": "2021-11-07T04:49:50.723183Z",
     "iopub.status.idle": "2021-11-07T04:49:50.724902Z",
     "shell.execute_reply": "2021-11-07T04:49:50.724593Z"
    }
   },
   "outputs": [],
   "source": [
    "S = partial(  # Scale the *update* of the pulse value at time t\n",
    "    krotov.shapes.flattop,\n",
    "    t_start=0.0,\n",
    "    t_stop=ARGS['T'],\n",
    "    t_rise=ARGS['t_rise'],\n",
    "    func='sinsq',\n",
    ")"
   ]
  },
  {
   "cell_type": "code",
   "execution_count": 14,
   "metadata": {
    "ExecuteTime": {
     "end_time": "2019-11-10T17:36:55.347468Z",
     "start_time": "2019-11-10T17:36:55.336694Z"
    },
    "execution": {
     "iopub.execute_input": "2021-11-07T04:49:50.727470Z",
     "iopub.status.busy": "2021-11-07T04:49:50.727174Z",
     "iopub.status.idle": "2021-11-07T04:49:50.728887Z",
     "shell.execute_reply": "2021-11-07T04:49:50.728586Z"
    }
   },
   "outputs": [],
   "source": [
    "pulse_options = {\n",
    "    H[1][1]: dict(lambda_a=2.0, update_shape=S, args=ARGS),\n",
    "    H[2][1]: dict(lambda_a=2.0, update_shape=S, args=ARGS),\n",
    "    H[3][1]: dict(lambda_a=2.0, update_shape=S, args=ARGS),\n",
    "    H[4][1]: dict(lambda_a=2.0, update_shape=S, args=ARGS)\n",
    "}"
   ]
  },
  {
   "cell_type": "markdown",
   "metadata": {},
   "source": [
    "The `args` here are required to plug in in the parameters in the guess\n",
    "`Omega_P1` and `Omega_S1`. Compare this to the [previous\n",
    "example](02_example_lambda_system_rwa_complex_pulse.ipynb), where the\n",
    "parameters were hardcoded in the definition of the guess controls."
   ]
  },
  {
   "cell_type": "markdown",
   "metadata": {},
   "source": [
    "We now run the optimization for 40 iterations, printing out the fidelity\n",
    "\n",
    "$$\n",
    "F_{\\text{re}} = \\Re{\\Braket{\\Psi(T)}{\\Psi^{\\tgt}}}\n",
    "$$\n",
    "\n",
    "after each iteration."
   ]
  },
  {
   "cell_type": "code",
   "execution_count": 15,
   "metadata": {
    "ExecuteTime": {
     "end_time": "2019-11-10T17:36:55.357820Z",
     "start_time": "2019-11-10T17:36:55.351667Z"
    },
    "execution": {
     "iopub.execute_input": "2021-11-07T04:49:50.731145Z",
     "iopub.status.busy": "2021-11-07T04:49:50.730816Z",
     "iopub.status.idle": "2021-11-07T04:49:50.732435Z",
     "shell.execute_reply": "2021-11-07T04:49:50.732130Z"
    }
   },
   "outputs": [],
   "source": [
    "def print_fidelity(**kwargs):\n",
    "    F_re = np.average(np.array(kwargs['tau_vals']).real)\n",
    "    print(\"   F = %f\" % F_re)\n",
    "    return F_re"
   ]
  },
  {
   "cell_type": "code",
   "execution_count": 16,
   "metadata": {
    "ExecuteTime": {
     "end_time": "2019-11-10T17:39:07.238734Z",
     "start_time": "2019-11-10T17:36:55.360831Z"
    },
    "execution": {
     "iopub.execute_input": "2021-11-07T04:49:50.734950Z",
     "iopub.status.busy": "2021-11-07T04:49:50.734366Z",
     "iopub.status.idle": "2021-11-07T04:51:12.025380Z",
     "shell.execute_reply": "2021-11-07T04:51:12.025130Z"
    }
   },
   "outputs": [
    {
     "name": "stdout",
     "output_type": "stream",
     "text": [
      "   F = -0.007819\n",
      "   F = 0.055166\n",
      "   F = 0.117611\n",
      "   F = 0.178915\n",
      "   F = 0.238526\n",
      "   F = 0.295951\n",
      "   F = 0.350777\n",
      "   F = 0.402680\n",
      "   F = 0.451424\n",
      "   F = 0.496859\n",
      "   F = 0.538920\n",
      "   F = 0.577612\n",
      "   F = 0.613000\n",
      "   F = 0.645200\n",
      "   F = 0.674362\n",
      "   F = 0.700665\n",
      "   F = 0.724303\n",
      "   F = 0.745478\n",
      "   F = 0.764395\n",
      "   F = 0.781255\n",
      "   F = 0.796250\n",
      "   F = 0.809566\n",
      "   F = 0.821372\n",
      "   F = 0.831829\n",
      "   F = 0.841083\n",
      "   F = 0.849267\n",
      "   F = 0.856501\n",
      "   F = 0.862895\n",
      "   F = 0.868544\n",
      "   F = 0.873538\n",
      "   F = 0.877952\n",
      "   F = 0.881855\n",
      "   F = 0.885310\n",
      "   F = 0.888369\n",
      "   F = 0.891080\n",
      "   F = 0.893485\n",
      "   F = 0.895622\n",
      "   F = 0.897522\n",
      "   F = 0.899214\n",
      "   F = 0.900724\n",
      "   F = 0.902073\n"
     ]
    }
   ],
   "source": [
    "opt_result = krotov.optimize_pulses(\n",
    "    objectives, pulse_options, tlist,\n",
    "    propagator=krotov.propagators.expm,\n",
    "    chi_constructor=krotov.functionals.chis_re,\n",
    "    info_hook=print_fidelity,\n",
    "    iter_stop=40\n",
    ")"
   ]
  },
  {
   "cell_type": "markdown",
   "metadata": {},
   "source": [
    "We look at the optimized controls and the population dynamics they induce:"
   ]
  },
  {
   "cell_type": "code",
   "execution_count": 17,
   "metadata": {
    "ExecuteTime": {
     "end_time": "2019-11-10T17:39:07.796565Z",
     "start_time": "2019-11-10T17:39:07.240910Z"
    },
    "attributes": {
     "classes": [],
     "id": "",
     "n": "17"
    },
    "execution": {
     "iopub.execute_input": "2021-11-07T04:51:12.044551Z",
     "iopub.status.busy": "2021-11-07T04:51:12.041040Z",
     "iopub.status.idle": "2021-11-07T04:51:12.249937Z",
     "shell.execute_reply": "2021-11-07T04:51:12.249598Z"
    }
   },
   "outputs": [
    {
     "name": "stdout",
     "output_type": "stream",
     "text": [
      "pump pulse amplitude and phase:\n"
     ]
    },
    {
     "data": {
      "image/png": "[encoded data removed]",
      "text/plain": [
       "<Figure size 432x288 with 2 Axes>"
      ]
     },
     "metadata": {
      "needs_background": "light"
     },
     "output_type": "display_data"
    },
    {
     "name": "stdout",
     "output_type": "stream",
     "text": [
      "Stokes pulse amplitude and phase:\n"
     ]
    },
    {
     "data": {
      "image/png": "[encoded data removed]",
      "text/plain": [
       "<Figure size 432x288 with 2 Axes>"
      ]
     },
     "metadata": {
      "needs_background": "light"
     },
     "output_type": "display_data"
    }
   ],
   "source": [
    "def plot_pulse_amplitude_and_phase(pulse_real, pulse_imaginary,tlist):\n",
    "    ax1 = plt.subplot(211)\n",
    "    ax2 = plt.subplot(212)\n",
    "    amplitudes = [np.sqrt(x*x + y*y) for x,y in zip(pulse_real,pulse_imaginary)]\n",
    "    phases = [np.arctan2(y,x)/np.pi for x,y in zip(pulse_real,pulse_imaginary)]\n",
    "    ax1.plot(tlist,amplitudes)\n",
    "    ax1.set_xlabel('time')\n",
    "    ax1.set_ylabel('pulse amplitude')\n",
    "    ax2.plot(tlist,phases)\n",
    "    ax2.set_xlabel('time')\n",
    "    ax2.set_ylabel('pulse phase (π)')\n",
    "    plt.show()\n",
    "\n",
    "print(\"pump pulse amplitude and phase:\")\n",
    "plot_pulse_amplitude_and_phase(\n",
    "    opt_result.optimized_controls[0], opt_result.optimized_controls[1], tlist)\n",
    "print(\"Stokes pulse amplitude and phase:\")\n",
    "plot_pulse_amplitude_and_phase(\n",
    "    opt_result.optimized_controls[2], opt_result.optimized_controls[3], tlist)"
   ]
  },
  {
   "cell_type": "markdown",
   "metadata": {},
   "source": [
    "We check the evolution of the population due to our optimized pulses."
   ]
  },
  {
   "cell_type": "code",
   "execution_count": 18,
   "metadata": {
    "ExecuteTime": {
     "end_time": "2019-11-10T17:39:09.965861Z",
     "start_time": "2019-11-10T17:39:07.799328Z"
    },
    "attributes": {
     "classes": [],
     "id": "",
     "n": "18"
    },
    "execution": {
     "iopub.execute_input": "2021-11-07T04:51:12.254277Z",
     "iopub.status.busy": "2021-11-07T04:51:12.253986Z",
     "iopub.status.idle": "2021-11-07T04:51:14.127216Z",
     "shell.execute_reply": "2021-11-07T04:51:14.126880Z"
    }
   },
   "outputs": [],
   "source": [
    "opt_dynamics = opt_result.optimized_objectives[0].propagate(\n",
    "    tlist, propagator=krotov.propagators.expm, e_ops=[proj1, proj2, proj3])\n",
    "opt_states = opt_result.optimized_objectives[0].propagate(\n",
    "    tlist, propagator=krotov.propagators.expm)"
   ]
  },
  {
   "cell_type": "code",
   "execution_count": 19,
   "metadata": {
    "ExecuteTime": {
     "end_time": "2019-11-10T17:39:10.403930Z",
     "start_time": "2019-11-10T17:39:09.968140Z"
    },
    "attributes": {
     "classes": [],
     "id": "",
     "n": "19"
    },
    "execution": {
     "iopub.execute_input": "2021-11-07T04:51:14.140200Z",
     "iopub.status.busy": "2021-11-07T04:51:14.138931Z",
     "iopub.status.idle": "2021-11-07T04:51:14.290248Z",
     "shell.execute_reply": "2021-11-07T04:51:14.289942Z"
    }
   },
   "outputs": [
    {
     "data": {
      "image/png": "[encoded data removed]",
      "text/plain": [
       "<Figure size 432x288 with 1 Axes>"
      ]
     },
     "metadata": {
      "needs_background": "light"
     },
     "output_type": "display_data"
    },
    {
     "data": {
      "image/png": "[encoded data removed]",
      "text/plain": [
       "<Figure size 432x288 with 1 Axes>"
      ]
     },
     "metadata": {
      "needs_background": "light"
     },
     "output_type": "display_data"
    }
   ],
   "source": [
    "plot_population(opt_dynamics)\n",
    "plot_norm(opt_states)"
   ]
  },
  {
   "cell_type": "markdown",
   "metadata": {},
   "source": [
    "These dynamics show that the non-Hermitian Hamiltonian has the desired effect:\n",
    "The population is steered out of the decaying $\\ket{2}$ state, with the\n",
    "resulting loss in norm down to 10% from the 30% loss of the guess pulses.\n",
    "Indeed, these 10% are exactly the value of the error $1 - F_{\\text{re}}$,\n",
    "indicating that avoiding population in the $\\ket{2}$ part is the difficult part\n",
    "of the optimization. Convergence towards this goal is slow, so we continue the\n",
    "optimization up to iteration 2000."
   ]
  },
  {
   "cell_type": "code",
   "execution_count": 20,
   "metadata": {
    "ExecuteTime": {
     "end_time": "2019-11-10T17:39:10.423760Z",
     "start_time": "2019-11-10T17:39:10.406834Z"
    },
    "execution": {
     "iopub.execute_input": "2021-11-07T04:51:14.292941Z",
     "iopub.status.busy": "2021-11-07T04:51:14.292620Z",
     "iopub.status.idle": "2021-11-07T04:51:14.308349Z",
     "shell.execute_reply": "2021-11-07T04:51:14.308049Z"
    }
   },
   "outputs": [],
   "source": [
    "dumpfile = \"./non_herm_opt_result.dump\"\n",
    "if os.path.isfile(dumpfile):\n",
    "    opt_result = krotov.result.Result.load(dumpfile, objectives)\n",
    "else:\n",
    "    opt_result = krotov.optimize_pulses(\n",
    "        objectives, pulse_options, tlist,\n",
    "        propagator=krotov.propagators.expm,\n",
    "        chi_constructor=krotov.functionals.chis_re,\n",
    "        info_hook=krotov.info_hooks.chain(print_fidelity),\n",
    "        iter_stop=2000,\n",
    "        continue_from=opt_result\n",
    "    )\n",
    "    opt_result.dump(dumpfile)"
   ]
  },
  {
   "cell_type": "code",
   "execution_count": 21,
   "metadata": {
    "ExecuteTime": {
     "end_time": "2019-11-10T17:39:10.432245Z",
     "start_time": "2019-11-10T17:39:10.426406Z"
    },
    "attributes": {
     "classes": [],
     "id": "",
     "n": "21"
    },
    "execution": {
     "iopub.execute_input": "2021-11-07T04:51:14.310425Z",
     "iopub.status.busy": "2021-11-07T04:51:14.310132Z",
     "iopub.status.idle": "2021-11-07T04:51:14.311993Z",
     "shell.execute_reply": "2021-11-07T04:51:14.311698Z"
    }
   },
   "outputs": [
    {
     "name": "stdout",
     "output_type": "stream",
     "text": [
      "Final fidelity: 0.966\n"
     ]
    }
   ],
   "source": [
    "print(\"Final fidelity: %.3f\" % opt_result.info_vals[-1])"
   ]
  },
  {
   "cell_type": "code",
   "execution_count": 22,
   "metadata": {
    "ExecuteTime": {
     "end_time": "2019-11-10T17:39:10.444000Z",
     "start_time": "2019-11-10T17:39:10.437302Z"
    },
    "attributes": {
     "classes": [],
     "id": "",
     "n": "22"
    },
    "execution": {
     "iopub.execute_input": "2021-11-07T04:51:14.314237Z",
     "iopub.status.busy": "2021-11-07T04:51:14.313947Z",
     "iopub.status.idle": "2021-11-07T04:51:14.315498Z",
     "shell.execute_reply": "2021-11-07T04:51:14.315205Z"
    }
   },
   "outputs": [],
   "source": [
    "def plot_convergence(result):\n",
    "    fig, ax = plt.subplots()\n",
    "    ax.semilogy(result.iters, 1-np.array(result.info_vals))\n",
    "    ax.set_xlabel('OCT iteration')\n",
    "    ax.set_ylabel('error')\n",
    "    plt.show(fig)"
   ]
  },
  {
   "cell_type": "markdown",
   "metadata": {},
   "source": [
    "To get a feel for the convergence, we can plot the optimization error over the iteration number:"
   ]
  },
  {
   "cell_type": "code",
   "execution_count": 23,
   "metadata": {
    "ExecuteTime": {
     "end_time": "2019-11-10T17:39:11.043915Z",
     "start_time": "2019-11-10T17:39:10.451812Z"
    },
    "attributes": {
     "classes": [],
     "id": "",
     "n": "23"
    },
    "execution": {
     "iopub.execute_input": "2021-11-07T04:51:14.327742Z",
     "iopub.status.busy": "2021-11-07T04:51:14.326937Z",
     "iopub.status.idle": "2021-11-07T04:51:14.888743Z",
     "shell.execute_reply": "2021-11-07T04:51:14.888437Z"
    },
    "lines_to_next_cell": 0
   },
   "outputs": [
    {
     "data": {
      "image/png": "[encoded data removed]",
      "text/plain": [
       "<Figure size 432x288 with 1 Axes>"
      ]
     },
     "metadata": {
      "needs_background": "light"
     },
     "output_type": "display_data"
    }
   ],
   "source": [
    "plot_convergence(opt_result)"
   ]
  },
  {
   "cell_type": "markdown",
   "metadata": {},
   "source": [
    "We have used here that the return value of the routine `print_fidelity` that was passed to the `optimize_pulses` routine as an `info_hook` is automatically accumulated in `result.info_vals`.\n",
    "\n",
    "We also look at optimized controls and the dynamics they induce:"
   ]
  },
  {
   "cell_type": "code",
   "execution_count": 24,
   "metadata": {
    "ExecuteTime": {
     "end_time": "2019-11-10T17:39:11.630393Z",
     "start_time": "2019-11-10T17:39:11.048493Z"
    },
    "attributes": {
     "classes": [],
     "id": "",
     "n": "25"
    },
    "execution": {
     "iopub.execute_input": "2021-11-07T04:51:14.911953Z",
     "iopub.status.busy": "2021-11-07T04:51:14.902900Z",
     "iopub.status.idle": "2021-11-07T04:51:15.117430Z",
     "shell.execute_reply": "2021-11-07T04:51:15.117122Z"
    }
   },
   "outputs": [
    {
     "name": "stdout",
     "output_type": "stream",
     "text": [
      "pump pulse amplitude and phase:\n"
     ]
    },
    {
     "data": {
      "image/png": "[encoded data removed]",
      "text/plain": [
       "<Figure size 432x288 with 2 Axes>"
      ]
     },
     "metadata": {
      "needs_background": "light"
     },
     "output_type": "display_data"
    },
    {
     "name": "stdout",
     "output_type": "stream",
     "text": [
      "Stokes pulse amplitude and phase:\n"
     ]
    },
    {
     "data": {
      "image/png": "[encoded data removed]",
      "text/plain": [
       "<Figure size 432x288 with 2 Axes>"
      ]
     },
     "metadata": {
      "needs_background": "light"
     },
     "output_type": "display_data"
    }
   ],
   "source": [
    "print(\"pump pulse amplitude and phase:\")\n",
    "plot_pulse_amplitude_and_phase(\n",
    "    opt_result.optimized_controls[0], opt_result.optimized_controls[1], tlist)\n",
    "print(\"Stokes pulse amplitude and phase:\")\n",
    "plot_pulse_amplitude_and_phase(\n",
    "    opt_result.optimized_controls[2], opt_result.optimized_controls[3], tlist)"
   ]
  },
  {
   "cell_type": "code",
   "execution_count": 25,
   "metadata": {
    "ExecuteTime": {
     "end_time": "2019-11-10T17:39:14.461895Z",
     "start_time": "2019-11-10T17:39:11.633126Z"
    },
    "execution": {
     "iopub.execute_input": "2021-11-07T04:51:15.121656Z",
     "iopub.status.busy": "2021-11-07T04:51:15.121362Z",
     "iopub.status.idle": "2021-11-07T04:51:16.992198Z",
     "shell.execute_reply": "2021-11-07T04:51:16.991774Z"
    },
    "lines_to_next_cell": 2
   },
   "outputs": [],
   "source": [
    "opt_dynamics = opt_result.optimized_objectives[0].propagate(\n",
    "    tlist, propagator=krotov.propagators.expm, e_ops=[proj1, proj2, proj3])\n",
    "opt_states = opt_result.optimized_objectives[0].propagate(\n",
    "    tlist, propagator=krotov.propagators.expm)"
   ]
  },
  {
   "cell_type": "code",
   "execution_count": 26,
   "metadata": {
    "ExecuteTime": {
     "end_time": "2019-11-10T17:39:14.988468Z",
     "start_time": "2019-11-10T17:39:14.463937Z"
    },
    "attributes": {
     "classes": [],
     "id": "",
     "n": "26"
    },
    "execution": {
     "iopub.execute_input": "2021-11-07T04:51:17.005623Z",
     "iopub.status.busy": "2021-11-07T04:51:17.005160Z",
     "iopub.status.idle": "2021-11-07T04:51:17.160333Z",
     "shell.execute_reply": "2021-11-07T04:51:17.160024Z"
    }
   },
   "outputs": [
    {
     "data": {
      "image/png": "[encoded data removed]",
      "text/plain": [
       "<Figure size 432x288 with 1 Axes>"
      ]
     },
     "metadata": {
      "needs_background": "light"
     },
     "output_type": "display_data"
    },
    {
     "data": {
      "image/png": "[encoded data removed]",
      "text/plain": [
       "<Figure size 432x288 with 1 Axes>"
      ]
     },
     "metadata": {
      "needs_background": "light"
     },
     "output_type": "display_data"
    }
   ],
   "source": [
    "plot_population(opt_dynamics)\n",
    "plot_norm(opt_states)"
   ]
  },
  {
   "cell_type": "markdown",
   "metadata": {},
   "source": [
    "In accordance with the lower optimization error, the population dynamics now show\n",
    "a reasonably efficient transfer, and a significantly reduced population in\n",
    "state $\\ket{2}$.\n",
    "\n",
    "Finally, we can convert the complex-valued $\\Omega_P$ and $\\Omega_S$ functions to the\n",
    "physical electric fields $\\epsilon_{P}$ and $\\epsilon_{S}$:"
   ]
  },
  {
   "cell_type": "code",
   "execution_count": 27,
   "metadata": {
    "ExecuteTime": {
     "end_time": "2019-11-10T17:39:15.431996Z",
     "start_time": "2019-11-10T17:39:14.994569Z"
    },
    "execution": {
     "iopub.execute_input": "2021-11-07T04:51:17.186196Z",
     "iopub.status.busy": "2021-11-07T04:51:17.173692Z",
     "iopub.status.idle": "2021-11-07T04:51:17.346121Z",
     "shell.execute_reply": "2021-11-07T04:51:17.345820Z"
    }
   },
   "outputs": [
    {
     "name": "stdout",
     "output_type": "stream",
     "text": [
      "Physical electric pump pulse in the lab frame:\n"
     ]
    },
    {
     "data": {
      "image/png": "[encoded data removed]",
      "text/plain": [
       "<Figure size 432x288 with 1 Axes>"
      ]
     },
     "metadata": {
      "needs_background": "light"
     },
     "output_type": "display_data"
    },
    {
     "name": "stdout",
     "output_type": "stream",
     "text": [
      "Physical electric Stokes pulse in the lab frame:\n"
     ]
    },
    {
     "data": {
      "image/png": "[encoded data removed]",
      "text/plain": [
       "<Figure size 432x288 with 1 Axes>"
      ]
     },
     "metadata": {
      "needs_background": "light"
     },
     "output_type": "display_data"
    }
   ],
   "source": [
    "def plot_physical_field(pulse_re, pulse_im, tlist, case=None):\n",
    "\n",
    "    if case == 'pump':\n",
    "        w = 9.5\n",
    "    elif case == 'stokes':\n",
    "        w = 4.5\n",
    "    else:\n",
    "        print('Error: selected case is not a valid option')\n",
    "        return\n",
    "\n",
    "    ax = plt.subplot(111)\n",
    "    ax.plot(tlist,pulse_re*np.cos(w*tlist)-pulse_im*np.sin(w*tlist), 'r')\n",
    "    ax.set_xlabel('time', fontsize = 16)\n",
    "    if case == 'pump':\n",
    "        ax.set_ylabel(r'$\\mu_{12}\\,\\epsilon_{P}$')\n",
    "    elif case == 'stokes':\n",
    "        ax.set_ylabel(r'$ \\mu_{23}\\,\\epsilon_{S}$')\n",
    "    plt.show()\n",
    "\n",
    "\n",
    "print('Physical electric pump pulse in the lab frame:')\n",
    "plot_physical_field(\n",
    "    opt_result.optimized_controls[0], opt_result.optimized_controls[1], tlist, case = 'pump')\n",
    "\n",
    "\n",
    "print('Physical electric Stokes pulse in the lab frame:')\n",
    "plot_physical_field(\n",
    "    opt_result.optimized_controls[2], opt_result.optimized_controls[3], tlist, case = 'stokes')"
   ]
  }
 ],
 "metadata": {
  "hide_input": false,
  "jupytext": {
   "formats": ""
  },
  "kernelspec": {
   "display_name": "Python 3",
   "language": "python",
   "name": "python3"
  },
  "language_info": {
   "codemirror_mode": {
    "name": "ipython",
    "version": 3
   },
   "file_extension": ".py",
   "mimetype": "text/x-python",
   "name": "python",
   "nbconvert_exporter": "python",
   "pygments_lexer": "ipython3",
   "version": "3.8.1"
  },
  "toc": {
   "base_numbering": 1,
   "nav_menu": {},
   "number_sections": true,
   "sideBar": true,
   "skip_h1_title": false,
   "title_cell": "Table of Contents",
   "title_sidebar": "Contents",
   "toc_cell": false,
   "toc_position": {},
   "toc_section_display": true,
   "toc_window_display": false
  },
  "varInspector": {
   "cols": {
    "lenName": 16,
    "lenType": 16,
    "lenVar": 40
   },
   "kernels_config": {
    "python": {
     "delete_cmd_postfix": "",
     "delete_cmd_prefix": "del ",
     "library": "var_list.py",
     "varRefreshCmd": "print(var_dic_list())"
    },
    "r": {
     "delete_cmd_postfix": ") ",
     "delete_cmd_prefix": "rm(",
     "library": "var_list.r",
     "varRefreshCmd": "cat(var_dic_list()) "
    }
   },
   "types_to_exclude": [
    "module",
    "function",
    "builtin_function_or_method",
    "instance",
    "_Feature"
   ],
   "window_display": false
  }
 },
 "nbformat": 4,
 "nbformat_minor": 2
}
